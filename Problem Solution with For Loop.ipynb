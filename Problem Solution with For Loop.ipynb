{
 "cells": [
  {
   "cell_type": "markdown",
   "id": "62f2a4bd",
   "metadata": {},
   "source": [
    "# using for loop Take 10 integers from keyboard and print their Average on the screen"
   ]
  },
  {
   "cell_type": "code",
   "execution_count": 2,
   "id": "ffe77614",
   "metadata": {},
   "outputs": [
    {
     "name": "stdout",
     "output_type": "stream",
     "text": [
      "Enter Integer : 9\n",
      "Enter Integer : 8\n",
      "Enter Integer : 7\n",
      "Enter Integer : 6\n",
      "Enter Integer : 5\n",
      "Enter Integer : 4\n",
      "Enter Integer : 3\n",
      "Enter Integer : 2\n",
      "Enter Integer : 2\n",
      "Enter Integer : 3\n",
      "\n",
      "\n",
      "\tOriginal List :  [9, 8, 7, 6, 5, 4, 3, 2, 2]\n",
      "\n",
      "\tAverage of List :  5.111111111111111\n"
     ]
    }
   ],
   "source": [
    "integer = 0\n",
    "int_List = []\n",
    "average = 0\n",
    "for i in range(10):\n",
    "    integer = int(input(\"Enter Integer : \"))\n",
    "    int_List.append(integer)\n",
    "int_List.pop(-1)\n",
    "average = sum(int_List) / len(int_List)\n",
    "print(\"\\n\\n\\tOriginal List : \",int_List)\n",
    "print(\"\\n\\tAverage of List : \",average)"
   ]
  },
  {
   "cell_type": "markdown",
   "id": "6c7bd7db",
   "metadata": {},
   "source": [
    "# Write a for loop that Print Multiplication table from 1-10 using for loop"
   ]
  },
  {
   "cell_type": "code",
   "execution_count": 3,
   "id": "75ad8446",
   "metadata": {},
   "outputs": [
    {
     "name": "stdout",
     "output_type": "stream",
     "text": [
      "\n",
      "next 0 \n",
      "\n",
      "\t 0 x 0 = 0\n",
      "\t 0 x 1 = 0\n",
      "\t 0 x 2 = 0\n",
      "\t 0 x 3 = 0\n",
      "\t 0 x 4 = 0\n",
      "\t 0 x 5 = 0\n",
      "\t 0 x 6 = 0\n",
      "\t 0 x 7 = 0\n",
      "\t 0 x 8 = 0\n",
      "\t 0 x 9 = 0\n",
      "\n",
      "next 1 \n",
      "\n",
      "\t 1 x 0 = 0\n",
      "\t 1 x 1 = 1\n",
      "\t 1 x 2 = 2\n",
      "\t 1 x 3 = 3\n",
      "\t 1 x 4 = 4\n",
      "\t 1 x 5 = 5\n",
      "\t 1 x 6 = 6\n",
      "\t 1 x 7 = 7\n",
      "\t 1 x 8 = 8\n",
      "\t 1 x 9 = 9\n",
      "\n",
      "next 2 \n",
      "\n",
      "\t 2 x 0 = 0\n",
      "\t 2 x 1 = 2\n",
      "\t 2 x 2 = 4\n",
      "\t 2 x 3 = 6\n",
      "\t 2 x 4 = 8\n",
      "\t 2 x 5 = 10\n",
      "\t 2 x 6 = 12\n",
      "\t 2 x 7 = 14\n",
      "\t 2 x 8 = 16\n",
      "\t 2 x 9 = 18\n",
      "\n",
      "next 3 \n",
      "\n",
      "\t 3 x 0 = 0\n",
      "\t 3 x 1 = 3\n",
      "\t 3 x 2 = 6\n",
      "\t 3 x 3 = 9\n",
      "\t 3 x 4 = 12\n",
      "\t 3 x 5 = 15\n",
      "\t 3 x 6 = 18\n",
      "\t 3 x 7 = 21\n",
      "\t 3 x 8 = 24\n",
      "\t 3 x 9 = 27\n",
      "\n",
      "next 4 \n",
      "\n",
      "\t 4 x 0 = 0\n",
      "\t 4 x 1 = 4\n",
      "\t 4 x 2 = 8\n",
      "\t 4 x 3 = 12\n",
      "\t 4 x 4 = 16\n",
      "\t 4 x 5 = 20\n",
      "\t 4 x 6 = 24\n",
      "\t 4 x 7 = 28\n",
      "\t 4 x 8 = 32\n",
      "\t 4 x 9 = 36\n",
      "\n",
      "next 5 \n",
      "\n",
      "\t 5 x 0 = 0\n",
      "\t 5 x 1 = 5\n",
      "\t 5 x 2 = 10\n",
      "\t 5 x 3 = 15\n",
      "\t 5 x 4 = 20\n",
      "\t 5 x 5 = 25\n",
      "\t 5 x 6 = 30\n",
      "\t 5 x 7 = 35\n",
      "\t 5 x 8 = 40\n",
      "\t 5 x 9 = 45\n",
      "\n",
      "next 6 \n",
      "\n",
      "\t 6 x 0 = 0\n",
      "\t 6 x 1 = 6\n",
      "\t 6 x 2 = 12\n",
      "\t 6 x 3 = 18\n",
      "\t 6 x 4 = 24\n",
      "\t 6 x 5 = 30\n",
      "\t 6 x 6 = 36\n",
      "\t 6 x 7 = 42\n",
      "\t 6 x 8 = 48\n",
      "\t 6 x 9 = 54\n",
      "\n",
      "next 7 \n",
      "\n",
      "\t 7 x 0 = 0\n",
      "\t 7 x 1 = 7\n",
      "\t 7 x 2 = 14\n",
      "\t 7 x 3 = 21\n",
      "\t 7 x 4 = 28\n",
      "\t 7 x 5 = 35\n",
      "\t 7 x 6 = 42\n",
      "\t 7 x 7 = 49\n",
      "\t 7 x 8 = 56\n",
      "\t 7 x 9 = 63\n",
      "\n",
      "next 8 \n",
      "\n",
      "\t 8 x 0 = 0\n",
      "\t 8 x 1 = 8\n",
      "\t 8 x 2 = 16\n",
      "\t 8 x 3 = 24\n",
      "\t 8 x 4 = 32\n",
      "\t 8 x 5 = 40\n",
      "\t 8 x 6 = 48\n",
      "\t 8 x 7 = 56\n",
      "\t 8 x 8 = 64\n",
      "\t 8 x 9 = 72\n",
      "\n",
      "next 9 \n",
      "\n",
      "\t 9 x 0 = 0\n",
      "\t 9 x 1 = 9\n",
      "\t 9 x 2 = 18\n",
      "\t 9 x 3 = 27\n",
      "\t 9 x 4 = 36\n",
      "\t 9 x 5 = 45\n",
      "\t 9 x 6 = 54\n",
      "\t 9 x 7 = 63\n",
      "\t 9 x 8 = 72\n",
      "\t 9 x 9 = 81\n"
     ]
    }
   ],
   "source": [
    "no = 0\n",
    "for no in range(10):\n",
    "    start = 0\n",
    "    print(\"\\nnext\",no,\"\\n\")\n",
    "    for start in range(10):\n",
    "        table = no*start\n",
    "        print(\"\\t\", no,\"x\", start,\"=\",table)"
   ]
  },
  {
   "cell_type": "markdown",
   "id": "66601184",
   "metadata": {},
   "source": [
    "# Write a for loop that Print Multipliacation Table of Specific number using for loop."
   ]
  },
  {
   "cell_type": "code",
   "execution_count": 4,
   "id": "3282c6ab",
   "metadata": {},
   "outputs": [
    {
     "name": "stdout",
     "output_type": "stream",
     "text": [
      "Enter number >> 5\n",
      "0 x 5 = 0\n",
      "1 x 5 = 5\n",
      "2 x 5 = 10\n",
      "3 x 5 = 15\n",
      "4 x 5 = 20\n",
      "5 x 5 = 25\n",
      "6 x 5 = 30\n",
      "7 x 5 = 35\n",
      "8 x 5 = 40\n",
      "9 x 5 = 45\n",
      "10 x 5 = 50\n"
     ]
    }
   ],
   "source": [
    "number = int(input(\"Enter number >> \"))\n",
    "for i in range(11):\n",
    "    if number == 25 or 29 or 31 or 50:\n",
    "        ans = i*number \n",
    "        print(i,\"x\",number,\"=\",ans)"
   ]
  },
  {
   "cell_type": "markdown",
   "id": "8f849d09",
   "metadata": {},
   "source": [
    "# Write a for loop that Write infinite loop through for loop"
   ]
  },
  {
   "cell_type": "code",
   "execution_count": null,
   "id": "e66ed50a",
   "metadata": {},
   "outputs": [],
   "source": [
    "ls = [1]\n",
    "for x in ls:\n",
    "    ls.append(x+1)\n",
    "    print(\"I'am Unstoppable...\\n Come Catch Me\")"
   ]
  },
  {
   "cell_type": "markdown",
   "id": "73794ea5",
   "metadata": {},
   "source": [
    "# Write a for loop that calculate factorial number using for loop."
   ]
  },
  {
   "cell_type": "code",
   "execution_count": 6,
   "id": "b0bf5693",
   "metadata": {},
   "outputs": [
    {
     "name": "stdout",
     "output_type": "stream",
     "text": [
      "Enter number : 5\n",
      "Factorial ::  120\n"
     ]
    }
   ],
   "source": [
    "number = int(input(\"Enter number : \"))\n",
    "for i in range(1,number):\n",
    "    number *= i\n",
    "print(\"Factorial :: \",number)"
   ]
  },
  {
   "cell_type": "markdown",
   "id": "536e0b69",
   "metadata": {},
   "source": [
    "# Write a for loop that takes an input from user and return whether the input is Negative or Positive number using for loop. also check whther the number is prime or not ?"
   ]
  },
  {
   "cell_type": "code",
   "execution_count": 8,
   "id": "ea07590f",
   "metadata": {},
   "outputs": [
    {
     "name": "stdout",
     "output_type": "stream",
     "text": [
      "num: 4\n",
      "its +ive\n",
      "its even\n",
      "is not a Prime number\n"
     ]
    }
   ],
   "source": [
    "o = int(input(\"num: \"))\n",
    "if o > 0:\n",
    "    print(\"its +ive\")\n",
    "    if o % 2 == 0:\n",
    "        print(\"its even\\nis not a Prime number\")\n",
    "        if o == 2:\n",
    "            print(\"its prime\")\n",
    "    elif o % 2 != 0:\n",
    "        print(\"its odd\")\n",
    "        for j in range(2,o):\n",
    "            if o % j == 0:\n",
    "                print(\"its not Prime Number\")\n",
    "            else:\n",
    "                print(\"its Prime\")\n",
    "                break\n",
    "elif o < 0:\n",
    "    print(\"its -ive\")\n",
    "else:\n",
    "    print(\"its equal\")"
   ]
  },
  {
   "cell_type": "markdown",
   "id": "a92c41bd",
   "metadata": {},
   "source": [
    "# Write a for loop that Take integer From User until he/she presses 'q'. print Average and product of all numbers using for loop"
   ]
  },
  {
   "cell_type": "code",
   "execution_count": 9,
   "id": "f99b4aa0",
   "metadata": {},
   "outputs": [
    {
     "name": "stdout",
     "output_type": "stream",
     "text": [
      "enter number : 2\n",
      "enter number : 3\n",
      "enter number : 4\n",
      "enter number : 5\n",
      "enter number : 6\n",
      "enter number : 7\n",
      "enter number : q\n",
      "\n",
      "String to stop value\n",
      "\n",
      "Original List [2, 3, 4, 5, 6, 7]\n",
      "Average : 4.5\n",
      "Product :  5040\n"
     ]
    }
   ],
   "source": [
    "ls = []\n",
    "average = 0\n",
    "for i in range(1000):\n",
    "    i = input(\"enter number : \")\n",
    "    if i == \"q\":\n",
    "        print(\"\\nString to stop value\\n\")\n",
    "        break\n",
    "    i = int(i)\n",
    "    ls.append(i)\n",
    "pr = 1\n",
    "for j in ls:\n",
    "    pr*=j\n",
    "average = (sum(ls)) / (len(ls))\n",
    "print(\"Original List\",ls)\n",
    "print(\"Average :\" ,average)\n",
    "print(\"Product : \",pr)"
   ]
  },
  {
   "cell_type": "markdown",
   "id": "16e59ac6",
   "metadata": {},
   "source": [
    "# Write a for loop that append the square , cube and 4rth of the each number to the new list."
   ]
  },
  {
   "cell_type": "code",
   "execution_count": 10,
   "id": "66c2d486",
   "metadata": {},
   "outputs": [
    {
     "name": "stdout",
     "output_type": "stream",
     "text": [
      "Enter number : 3\n",
      "Enter number : 4\n",
      "Enter number : 5\n",
      "Enter number : 3\n",
      "Enter number : q\n",
      "\n",
      "\tSquare of element in list is :  [9, 16, 25, 9]\n",
      "\n",
      "\tCube of element in list is :  [27, 64, 125, 27]\n",
      "\n",
      "\tFourth of element in list is :  [81, 256, 625, 81]\n"
     ]
    }
   ],
   "source": [
    "square = []\n",
    "cube = []\n",
    "fourth = []\n",
    "for i in range(100):\n",
    "    i = input(\"Enter number : \")\n",
    "    if i == 'q':\n",
    "        break\n",
    "    else:\n",
    "        i = int(i)\n",
    "        sq = i*i\n",
    "        cb = i*i*i\n",
    "        fth = i*i*i*i\n",
    "    square.append(sq)\n",
    "    cube.append(cb)\n",
    "    fourth.append(fth)\n",
    "print(\"\\n\\tSquare of element in list is : \",square)\n",
    "print(\"\\n\\tCube of element in list is : \",cube)\n",
    "print('\\n\\tFourth of element in list is : ',fourth)"
   ]
  },
  {
   "cell_type": "markdown",
   "id": "194d736b",
   "metadata": {},
   "source": [
    "# Write a for loop that append such number to the list if positive."
   ]
  },
  {
   "cell_type": "code",
   "execution_count": 11,
   "id": "841b73f0",
   "metadata": {},
   "outputs": [
    {
     "name": "stdout",
     "output_type": "stream",
     "text": [
      "\n",
      "\tPositive numbers :  [1, 2, 3, 4, 5, 6, 7, 8, 9, 10]\n",
      "\n",
      "\tNegative numbers :  [-1, -2, -3, -4, -5, -6, -7, -8, -9, -10]\n"
     ]
    }
   ],
   "source": [
    "list_to_be_operated = [1,-1,-2,2,-3,3,-4,4,-5,5,-6,6,-7,7,-8,8,-9,-10,9,10]\n",
    "positive_list = []\n",
    "negative_list = []\n",
    "for i in list_to_be_operated:\n",
    "    #i = int(input(\"Enter no >> \"))\n",
    "    if i > 0:\n",
    "        positive_list.append(i)\n",
    "    elif i < 0:\n",
    "        negative_list.append(i)\n",
    "print(\"\\n\\tPositive numbers : \",positive_list)\n",
    "print(\"\\n\\tNegative numbers : \",negative_list)"
   ]
  },
  {
   "cell_type": "markdown",
   "id": "98d1dbe7",
   "metadata": {},
   "source": [
    "# Write a function that append the type of each element in the first list to the second list"
   ]
  },
  {
   "cell_type": "code",
   "execution_count": 12,
   "id": "41931abe",
   "metadata": {},
   "outputs": [
    {
     "name": "stdout",
     "output_type": "stream",
     "text": [
      "[<class 'int'>, <class 'int'>, <class 'int'>, <class 'int'>, <class 'str'>, <class 'str'>, <class 'str'>, <class 'str'>]\n"
     ]
    }
   ],
   "source": [
    "lists = [1,2,3,4,'a','b','c','d']\n",
    "type_of_elements = []\n",
    "for each_element in lists:\n",
    "    type_of_elements.append(type(each_element))\n",
    "print(type_of_elements)"
   ]
  }
 ],
 "metadata": {
  "kernelspec": {
   "display_name": "Python 3 (ipykernel)",
   "language": "python",
   "name": "python3"
  },
  "language_info": {
   "codemirror_mode": {
    "name": "ipython",
    "version": 3
   },
   "file_extension": ".py",
   "mimetype": "text/x-python",
   "name": "python",
   "nbconvert_exporter": "python",
   "pygments_lexer": "ipython3",
   "version": "3.9.12"
  }
 },
 "nbformat": 4,
 "nbformat_minor": 5
}
