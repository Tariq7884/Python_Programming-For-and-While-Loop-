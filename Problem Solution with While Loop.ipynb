{
 "cells": [
  {
   "cell_type": "markdown",
   "id": "b2595e6c",
   "metadata": {},
   "source": [
    "# How will you Take 10 integers from keyboard using while loop and print their Average on the screen"
   ]
  },
  {
   "cell_type": "code",
   "execution_count": 1,
   "id": "725ab825",
   "metadata": {},
   "outputs": [
    {
     "name": "stdout",
     "output_type": "stream",
     "text": [
      "Enter Integer : 9\n",
      "Enter Integer : 8\n",
      "Enter Integer : 8\n",
      "Enter Integer : 7\n",
      "Enter Integer : 6\n",
      "Enter Integer : 5\n",
      "Enter Integer : 5\n",
      "Enter Integer : 67\n",
      "Enter Integer : 88\n",
      "Enter Integer : 8\n",
      "Enter Integer : 9\n",
      "Enter Integer : 9\n",
      "Enter Integer : 7\n",
      "Enter Integer : 7\n",
      "Enter Integer : 7\n",
      "Enter Integer : 87\n",
      "Enter Integer : 78\n",
      "Enter Integer : 7\n",
      "Enter Integer : -1\n",
      "\n",
      "\n",
      "\tOriginal List :  [9, 8, 8, 7, 6, 5, 5, 67, 88, 8, 9, 9, 7, 7, 7, 87, 78, 7]\n",
      "\n",
      "\tAverage of List :  23.444444444444443\n"
     ]
    }
   ],
   "source": [
    "integer = 0\n",
    "int_List = []\n",
    "average = 0\n",
    "while integer != -1:\n",
    "    integer = int(input(\"Enter Integer : \"))\n",
    "    int_List.append(integer)\n",
    "int_List.pop(-1)\n",
    "average = sum(int_List) / len(int_List)\n",
    "print(\"\\n\\n\\tOriginal List : \",int_List)\n",
    "print(\"\\n\\tAverage of List : \",average)"
   ]
  },
  {
   "cell_type": "code",
   "execution_count": null,
   "id": "c9478f73",
   "metadata": {},
   "outputs": [],
   "source": []
  },
  {
   "cell_type": "markdown",
   "id": "7c11a6b0",
   "metadata": {},
   "source": [
    "# How will you Print Multiplication table from 1-10 using while loop"
   ]
  },
  {
   "cell_type": "code",
   "execution_count": 2,
   "id": "2c5bd511",
   "metadata": {},
   "outputs": [
    {
     "name": "stdout",
     "output_type": "stream",
     "text": [
      "\n",
      "next 1 \n",
      "\n",
      "\t 1 x 1 = 1\n",
      "\t 1 x 2 = 2\n",
      "\t 1 x 3 = 3\n",
      "\t 1 x 4 = 4\n",
      "\t 1 x 5 = 5\n",
      "\t 1 x 6 = 6\n",
      "\t 1 x 7 = 7\n",
      "\t 1 x 8 = 8\n",
      "\t 1 x 9 = 9\n",
      "\t 1 x 10 = 10\n",
      "\n",
      "next 2 \n",
      "\n",
      "\t 2 x 1 = 2\n",
      "\t 2 x 2 = 4\n",
      "\t 2 x 3 = 6\n",
      "\t 2 x 4 = 8\n",
      "\t 2 x 5 = 10\n",
      "\t 2 x 6 = 12\n",
      "\t 2 x 7 = 14\n",
      "\t 2 x 8 = 16\n",
      "\t 2 x 9 = 18\n",
      "\t 2 x 10 = 20\n",
      "\n",
      "next 3 \n",
      "\n",
      "\t 3 x 1 = 3\n",
      "\t 3 x 2 = 6\n",
      "\t 3 x 3 = 9\n",
      "\t 3 x 4 = 12\n",
      "\t 3 x 5 = 15\n",
      "\t 3 x 6 = 18\n",
      "\t 3 x 7 = 21\n",
      "\t 3 x 8 = 24\n",
      "\t 3 x 9 = 27\n",
      "\t 3 x 10 = 30\n",
      "\n",
      "next 4 \n",
      "\n",
      "\t 4 x 1 = 4\n",
      "\t 4 x 2 = 8\n",
      "\t 4 x 3 = 12\n",
      "\t 4 x 4 = 16\n",
      "\t 4 x 5 = 20\n",
      "\t 4 x 6 = 24\n",
      "\t 4 x 7 = 28\n",
      "\t 4 x 8 = 32\n",
      "\t 4 x 9 = 36\n",
      "\t 4 x 10 = 40\n",
      "\n",
      "next 5 \n",
      "\n",
      "\t 5 x 1 = 5\n",
      "\t 5 x 2 = 10\n",
      "\t 5 x 3 = 15\n",
      "\t 5 x 4 = 20\n",
      "\t 5 x 5 = 25\n",
      "\t 5 x 6 = 30\n",
      "\t 5 x 7 = 35\n",
      "\t 5 x 8 = 40\n",
      "\t 5 x 9 = 45\n",
      "\t 5 x 10 = 50\n",
      "\n",
      "next 6 \n",
      "\n",
      "\t 6 x 1 = 6\n",
      "\t 6 x 2 = 12\n",
      "\t 6 x 3 = 18\n",
      "\t 6 x 4 = 24\n",
      "\t 6 x 5 = 30\n",
      "\t 6 x 6 = 36\n",
      "\t 6 x 7 = 42\n",
      "\t 6 x 8 = 48\n",
      "\t 6 x 9 = 54\n",
      "\t 6 x 10 = 60\n",
      "\n",
      "next 7 \n",
      "\n",
      "\t 7 x 1 = 7\n",
      "\t 7 x 2 = 14\n",
      "\t 7 x 3 = 21\n",
      "\t 7 x 4 = 28\n",
      "\t 7 x 5 = 35\n",
      "\t 7 x 6 = 42\n",
      "\t 7 x 7 = 49\n",
      "\t 7 x 8 = 56\n",
      "\t 7 x 9 = 63\n",
      "\t 7 x 10 = 70\n",
      "\n",
      "next 8 \n",
      "\n",
      "\t 8 x 1 = 8\n",
      "\t 8 x 2 = 16\n",
      "\t 8 x 3 = 24\n",
      "\t 8 x 4 = 32\n",
      "\t 8 x 5 = 40\n",
      "\t 8 x 6 = 48\n",
      "\t 8 x 7 = 56\n",
      "\t 8 x 8 = 64\n",
      "\t 8 x 9 = 72\n",
      "\t 8 x 10 = 80\n",
      "\n",
      "next 9 \n",
      "\n",
      "\t 9 x 1 = 9\n",
      "\t 9 x 2 = 18\n",
      "\t 9 x 3 = 27\n",
      "\t 9 x 4 = 36\n",
      "\t 9 x 5 = 45\n",
      "\t 9 x 6 = 54\n",
      "\t 9 x 7 = 63\n",
      "\t 9 x 8 = 72\n",
      "\t 9 x 9 = 81\n",
      "\t 9 x 10 = 90\n",
      "\n",
      "next 10 \n",
      "\n",
      "\t 10 x 1 = 10\n",
      "\t 10 x 2 = 20\n",
      "\t 10 x 3 = 30\n",
      "\t 10 x 4 = 40\n",
      "\t 10 x 5 = 50\n",
      "\t 10 x 6 = 60\n",
      "\t 10 x 7 = 70\n",
      "\t 10 x 8 = 80\n",
      "\t 10 x 9 = 90\n",
      "\t 10 x 10 = 100\n",
      "\n",
      "next 11 \n",
      "\n",
      "\t 11 x 1 = 11\n",
      "\t 11 x 2 = 22\n",
      "\t 11 x 3 = 33\n",
      "\t 11 x 4 = 44\n",
      "\t 11 x 5 = 55\n",
      "\t 11 x 6 = 66\n",
      "\t 11 x 7 = 77\n",
      "\t 11 x 8 = 88\n",
      "\t 11 x 9 = 99\n",
      "\t 11 x 10 = 110\n"
     ]
    }
   ],
   "source": [
    "no = 0\n",
    "while no != 11:\n",
    "    no+=1\n",
    "    start = 0\n",
    "    print(\"\\nnext\",no,\"\\n\")\n",
    "    while start != 10:\n",
    "        start+=1\n",
    "        table = no*start\n",
    "        print(\"\\t\", no,\"x\", start,\"=\",table)"
   ]
  },
  {
   "cell_type": "code",
   "execution_count": null,
   "id": "2bfc0948",
   "metadata": {},
   "outputs": [],
   "source": []
  },
  {
   "cell_type": "markdown",
   "id": "cc94e042",
   "metadata": {},
   "source": [
    "# How will You Print Multipliacation Table Of specific number using while loop."
   ]
  },
  {
   "cell_type": "code",
   "execution_count": 4,
   "id": "88ce0b7d",
   "metadata": {},
   "outputs": [
    {
     "name": "stdout",
     "output_type": "stream",
     "text": [
      "Enter number >> 5\n",
      "1 x 5 = 5\n",
      "2 x 5 = 10\n",
      "3 x 5 = 15\n",
      "4 x 5 = 20\n",
      "5 x 5 = 25\n",
      "6 x 5 = 30\n",
      "7 x 5 = 35\n",
      "8 x 5 = 40\n",
      "9 x 5 = 45\n",
      "10 x 5 = 50\n"
     ]
    }
   ],
   "source": [
    "number = int(input(\"Enter number >> \"))\n",
    "i = 0\n",
    "while i!=10:\n",
    "    i+=1\n",
    "    ans = i*number \n",
    "    print(i,\"x\",number,\"=\",ans)"
   ]
  },
  {
   "cell_type": "code",
   "execution_count": null,
   "id": "0067bd7e",
   "metadata": {},
   "outputs": [],
   "source": []
  },
  {
   "cell_type": "markdown",
   "id": "195b3af8",
   "metadata": {},
   "source": [
    "# How will you Write infinite loop through while loop"
   ]
  },
  {
   "cell_type": "code",
   "execution_count": null,
   "id": "63db6665",
   "metadata": {},
   "outputs": [],
   "source": [
    "i = 1\n",
    "while i > 0:\n",
    "    print(\"I'am Unstoppable...\\n Come Catch Me\")"
   ]
  },
  {
   "cell_type": "code",
   "execution_count": null,
   "id": "2b5591b4",
   "metadata": {},
   "outputs": [],
   "source": []
  },
  {
   "cell_type": "markdown",
   "id": "758f09dd",
   "metadata": {},
   "source": [
    "# how will you Write a program to calculate factorial number using while loop"
   ]
  },
  {
   "cell_type": "code",
   "execution_count": 5,
   "id": "7f497b22",
   "metadata": {},
   "outputs": [
    {
     "name": "stdout",
     "output_type": "stream",
     "text": [
      "Enter number : 5\n",
      "\n",
      "Factorial is 120\n"
     ]
    }
   ],
   "source": [
    "n = int(input(\"Enter number : \"))\n",
    "fac = 1\n",
    "while n>1:\n",
    "    fac*=n\n",
    "    n-=1\n",
    "print(\"\\nFactorial is\",fac)"
   ]
  },
  {
   "cell_type": "code",
   "execution_count": null,
   "id": "cba2dcf0",
   "metadata": {},
   "outputs": [],
   "source": []
  },
  {
   "cell_type": "markdown",
   "id": "9dcf30f4",
   "metadata": {},
   "source": [
    "# Write a while loop that takes an input from user and return whether the input is Negative or Positive number using for loop. also check whther the number is prime or not ?"
   ]
  },
  {
   "cell_type": "code",
   "execution_count": 22,
   "id": "daf471fc",
   "metadata": {},
   "outputs": [
    {
     "name": "stdout",
     "output_type": "stream",
     "text": [
      "num: 5\n",
      "its +ive\n",
      "its odd\n",
      "its Prime\n"
     ]
    }
   ],
   "source": [
    "o = int(input(\"num: \"))\n",
    "if o > 0:\n",
    "    print(\"its +ive\")\n",
    "    if o % 2 == 0:\n",
    "        print(\"its even\\nis not a Prime number\")\n",
    "        if o == 2:\n",
    "            print(\"its prime\")\n",
    "    elif o % 2 != 0:\n",
    "        print(\"its odd\")\n",
    "        j = 2\n",
    "        while j in range(2,o):\n",
    "            if o % j == 0:\n",
    "                print(\"its not Prime Number\")\n",
    "            else:\n",
    "                print(\"its Prime\")\n",
    "                break\n",
    "elif o < 0:\n",
    "    print(\"its -ive\")\n",
    "else:\n",
    "    print(\"its equal\")"
   ]
  },
  {
   "cell_type": "markdown",
   "id": "37609695",
   "metadata": {},
   "source": [
    "# how will you Take integer From User until he/she presses 'q'. print Average and product of all numbers usimg while loop\n"
   ]
  },
  {
   "cell_type": "code",
   "execution_count": 7,
   "id": "7eebad7f",
   "metadata": {},
   "outputs": [
    {
     "name": "stdout",
     "output_type": "stream",
     "text": [
      "enter number : 6\n",
      "enter number : 5\n",
      "enter number : 4\n",
      "enter number : 4\n",
      "enter number : 3\n",
      "enter number : 6\n",
      "enter number : q\n",
      "\n",
      "String to stop value\n",
      "\n",
      "Original List [6, 5, 4, 4, 3, 6]\n",
      "Average : 4.666666666666667\n",
      "Product :  720\n"
     ]
    }
   ],
   "source": [
    "ls = []\n",
    "average = 0\n",
    "i = 0\n",
    "while i != 1000:\n",
    "    i = input(\"enter number : \")\n",
    "    if i == \"q\":\n",
    "        print(\"\\nString to stop value\\n\")\n",
    "        break\n",
    "    i = int(i)\n",
    "    ls.append(i)\n",
    "pr = 1\n",
    "j = 1\n",
    "while j!=len(ls):\n",
    "    j+=1\n",
    "    pr*=j\n",
    "average = (sum(ls)) / (len(ls))\n",
    "print(\"Original List\",ls)\n",
    "print(\"Average :\" ,average)\n",
    "print(\"Product : \",pr)"
   ]
  },
  {
   "cell_type": "code",
   "execution_count": null,
   "id": "08c5457c",
   "metadata": {},
   "outputs": [],
   "source": []
  },
  {
   "cell_type": "markdown",
   "id": "a366ab2b",
   "metadata": {},
   "source": [
    "# how will you Write a while loop which append the square , cube and 4rth of the each number to the new list.\n"
   ]
  },
  {
   "cell_type": "code",
   "execution_count": 8,
   "id": "d5b53e35",
   "metadata": {},
   "outputs": [
    {
     "name": "stdout",
     "output_type": "stream",
     "text": [
      "Enter number : 7\n",
      "Enter number : 6\n",
      "Enter number : 5\n",
      "Enter number : 4\n",
      "Enter number : 4\n",
      "Enter number : 4\n",
      "Enter number : 3\n",
      "Enter number : 3\n",
      "Enter number : q\n",
      "\n",
      "\tSquare of element in list is :  [49, 36, 25, 16, 16, 16, 9, 9]\n",
      "\n",
      "\tCube of element in list is :  [343, 216, 125, 64, 64, 64, 27, 27]\n",
      "\n",
      "\tFourth of element in list is :  [2401, 1296, 625, 256, 256, 256, 81, 81]\n"
     ]
    }
   ],
   "source": [
    "square = []\n",
    "cube = []\n",
    "fourth = []\n",
    "i = 0\n",
    "while i != 100:\n",
    "    i = input(\"Enter number : \")\n",
    "    if i == 'q':\n",
    "        break\n",
    "    else:\n",
    "        i = int(i)\n",
    "        sq = i*i\n",
    "        cb = i*i*i\n",
    "        fth = i*i*i*i\n",
    "    square.append(sq)\n",
    "    cube.append(cb)\n",
    "    fourth.append(fth)\n",
    "print(\"\\n\\tSquare of element in list is : \",square)\n",
    "print(\"\\n\\tCube of element in list is : \",cube)\n",
    "print('\\n\\tFourth of element in list is : ',fourth)"
   ]
  },
  {
   "cell_type": "code",
   "execution_count": null,
   "id": "4ec9958a",
   "metadata": {},
   "outputs": [],
   "source": []
  },
  {
   "cell_type": "markdown",
   "id": "6e3abd81",
   "metadata": {},
   "source": [
    "# How will You Write a while loop using if statement that append such number to the list if positive"
   ]
  },
  {
   "cell_type": "code",
   "execution_count": 9,
   "id": "5c41fabc",
   "metadata": {},
   "outputs": [
    {
     "name": "stdout",
     "output_type": "stream",
     "text": [
      "Enter no >> 9\n",
      "Enter no >> 8\n",
      "Enter no >> 7\n",
      "Enter no >> 6\n",
      "Enter no >> 65\n",
      "Enter no >> 54\n",
      "Enter no >> 3\n",
      "Enter no >> 3\n",
      "Enter no >> -7\n",
      "Enter no >> -7\n",
      "Enter no >> -9\n",
      "Enter no >> -6\n",
      "Enter no >> -4\n",
      "Enter no >> -1\n",
      "\n",
      "\tPositive numbers :  [9, 8, 7, 6, 65, 54, 3, 3]\n",
      "\n",
      "\tNegative numbers :  [-7, -7, -9, -6, -4, -1]\n"
     ]
    }
   ],
   "source": [
    "positive_list = []\n",
    "negative_list = []\n",
    "i = 0\n",
    "while i != -1:\n",
    "    i = int(input(\"Enter no >> \"))\n",
    "    if i > 0:\n",
    "        positive_list.append(i)\n",
    "    elif i < 0:\n",
    "        negative_list.append(i)\n",
    "print(\"\\n\\tPositive numbers : \",positive_list)\n",
    "print(\"\\n\\tNegative numbers : \",negative_list)"
   ]
  },
  {
   "cell_type": "code",
   "execution_count": null,
   "id": "064cbc6e",
   "metadata": {},
   "outputs": [],
   "source": []
  },
  {
   "cell_type": "markdown",
   "id": "719edd38",
   "metadata": {},
   "source": [
    "# How will you write a while loop which append the type of each element in the first list to the second list"
   ]
  },
  {
   "cell_type": "code",
   "execution_count": 10,
   "id": "938bb567",
   "metadata": {},
   "outputs": [
    {
     "name": "stdout",
     "output_type": "stream",
     "text": [
      "[<class 'int'>, <class 'int'>, <class 'int'>, <class 'int'>, <class 'int'>, <class 'int'>, <class 'int'>, <class 'int'>]\n"
     ]
    }
   ],
   "source": [
    "lists = [1,2,3,4,'a','b','c','d']\n",
    "type_of_elements = []\n",
    "each_element = 0\n",
    "while each_element < len(lists):\n",
    "    each_element += 1\n",
    "    type_of_elements.append(type(each_element))\n",
    "print(type_of_elements)"
   ]
  },
  {
   "cell_type": "code",
   "execution_count": null,
   "id": "cb4ab8ed",
   "metadata": {},
   "outputs": [],
   "source": []
  }
 ],
 "metadata": {
  "kernelspec": {
   "display_name": "Python 3 (ipykernel)",
   "language": "python",
   "name": "python3"
  },
  "language_info": {
   "codemirror_mode": {
    "name": "ipython",
    "version": 3
   },
   "file_extension": ".py",
   "mimetype": "text/x-python",
   "name": "python",
   "nbconvert_exporter": "python",
   "pygments_lexer": "ipython3",
   "version": "3.9.12"
  }
 },
 "nbformat": 4,
 "nbformat_minor": 5
}
